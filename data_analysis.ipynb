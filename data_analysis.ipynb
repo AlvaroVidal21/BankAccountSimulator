{
 "cells": [
  {
   "cell_type": "code",
   "execution_count": 50,
   "metadata": {},
   "outputs": [],
   "source": [
    "import numpy as np\n",
    "import pandas as pd\n",
    "import matplotlib.pyplot as plt\n",
    "import seaborn as sns"
   ]
  },
  {
   "cell_type": "markdown",
   "metadata": {},
   "source": [
    "## Dataframe"
   ]
  },
  {
   "cell_type": "code",
   "execution_count": 51,
   "metadata": {},
   "outputs": [
    {
     "data": {
      "text/html": [
       "<div>\n",
       "<style scoped>\n",
       "    .dataframe tbody tr th:only-of-type {\n",
       "        vertical-align: middle;\n",
       "    }\n",
       "\n",
       "    .dataframe tbody tr th {\n",
       "        vertical-align: top;\n",
       "    }\n",
       "\n",
       "    .dataframe thead th {\n",
       "        text-align: right;\n",
       "    }\n",
       "</style>\n",
       "<table border=\"1\" class=\"dataframe\">\n",
       "  <thead>\n",
       "    <tr style=\"text-align: right;\">\n",
       "      <th></th>\n",
       "      <th>id</th>\n",
       "      <th>name</th>\n",
       "      <th>age</th>\n",
       "      <th>district</th>\n",
       "      <th>status_district</th>\n",
       "      <th>balance</th>\n",
       "      <th>debt</th>\n",
       "      <th>status_debt</th>\n",
       "    </tr>\n",
       "  </thead>\n",
       "  <tbody>\n",
       "    <tr>\n",
       "      <th>0</th>\n",
       "      <td>1</td>\n",
       "      <td>Harry Potter</td>\n",
       "      <td>18</td>\n",
       "      <td>Chaclacayo</td>\n",
       "      <td>C</td>\n",
       "      <td>202</td>\n",
       "      <td>121.20</td>\n",
       "      <td>peligro</td>\n",
       "    </tr>\n",
       "    <tr>\n",
       "      <th>1</th>\n",
       "      <td>2</td>\n",
       "      <td>Hermione Granger</td>\n",
       "      <td>40</td>\n",
       "      <td>Jesus Maria</td>\n",
       "      <td>B</td>\n",
       "      <td>4293</td>\n",
       "      <td>2103.57</td>\n",
       "      <td>normal</td>\n",
       "    </tr>\n",
       "    <tr>\n",
       "      <th>2</th>\n",
       "      <td>3</td>\n",
       "      <td>Ron Weasley</td>\n",
       "      <td>41</td>\n",
       "      <td>Chosica</td>\n",
       "      <td>C</td>\n",
       "      <td>438</td>\n",
       "      <td>122.64</td>\n",
       "      <td>normal</td>\n",
       "    </tr>\n",
       "    <tr>\n",
       "      <th>3</th>\n",
       "      <td>4</td>\n",
       "      <td>Albus Dumbledore</td>\n",
       "      <td>20</td>\n",
       "      <td>San Isidro</td>\n",
       "      <td>A</td>\n",
       "      <td>4140</td>\n",
       "      <td>1904.40</td>\n",
       "      <td>normal</td>\n",
       "    </tr>\n",
       "    <tr>\n",
       "      <th>4</th>\n",
       "      <td>5</td>\n",
       "      <td>Severus Snape</td>\n",
       "      <td>44</td>\n",
       "      <td>Lince</td>\n",
       "      <td>B</td>\n",
       "      <td>4824</td>\n",
       "      <td>578.88</td>\n",
       "      <td>normal</td>\n",
       "    </tr>\n",
       "  </tbody>\n",
       "</table>\n",
       "</div>"
      ],
      "text/plain": [
       "   id              name  age     district status_district  balance     debt  \\\n",
       "0   1      Harry Potter   18   Chaclacayo               C      202   121.20   \n",
       "1   2  Hermione Granger   40  Jesus Maria               B     4293  2103.57   \n",
       "2   3       Ron Weasley   41      Chosica               C      438   122.64   \n",
       "3   4  Albus Dumbledore   20   San Isidro               A     4140  1904.40   \n",
       "4   5     Severus Snape   44        Lince               B     4824   578.88   \n",
       "\n",
       "  status_debt  \n",
       "0     peligro  \n",
       "1      normal  \n",
       "2      normal  \n",
       "3      normal  \n",
       "4      normal  "
      ]
     },
     "execution_count": 51,
     "metadata": {},
     "output_type": "execute_result"
    }
   ],
   "source": [
    "df = pd.read_csv(\"accounts.csv\")\n",
    "df.head(5)"
   ]
  },
  {
   "cell_type": "markdown",
   "metadata": {},
   "source": [
    "## Estadísticos"
   ]
  },
  {
   "cell_type": "markdown",
   "metadata": {},
   "source": [
    "- Promedio de balance por distrito: `df_balance_district`\n",
    "- Promedio de balance por estatus de distrito: `df_balance_status_district` \n",
    "- Relación entre edad y deuda\n",
    "- Relación entre district y deuda\n",
    "- Relación entre balance y deuda"
   ]
  },
  {
   "cell_type": "code",
   "execution_count": 52,
   "metadata": {},
   "outputs": [],
   "source": [
    "# Promedio de balance por distrito\n",
    "df_balance_district = pd.DataFrame(df.groupby(\"district\")[\"balance\"].mean()).reset_index()\n",
    "df_balance_status_district = pd.DataFrame(df.groupby(\"status_district\")[\"balance\"].mean()).reset_index()"
   ]
  },
  {
   "cell_type": "code",
   "execution_count": 55,
   "metadata": {},
   "outputs": [
    {
     "data": {
      "text/html": [
       "<div>\n",
       "<style scoped>\n",
       "    .dataframe tbody tr th:only-of-type {\n",
       "        vertical-align: middle;\n",
       "    }\n",
       "\n",
       "    .dataframe tbody tr th {\n",
       "        vertical-align: top;\n",
       "    }\n",
       "\n",
       "    .dataframe thead th {\n",
       "        text-align: right;\n",
       "    }\n",
       "</style>\n",
       "<table border=\"1\" class=\"dataframe\">\n",
       "  <thead>\n",
       "    <tr style=\"text-align: right;\">\n",
       "      <th></th>\n",
       "      <th>id</th>\n",
       "      <th>age</th>\n",
       "      <th>balance</th>\n",
       "      <th>debt</th>\n",
       "    </tr>\n",
       "  </thead>\n",
       "  <tbody>\n",
       "    <tr>\n",
       "      <th>id</th>\n",
       "      <td>1.000000</td>\n",
       "      <td>-0.129977</td>\n",
       "      <td>0.015717</td>\n",
       "      <td>-0.099862</td>\n",
       "    </tr>\n",
       "    <tr>\n",
       "      <th>age</th>\n",
       "      <td>-0.129977</td>\n",
       "      <td>1.000000</td>\n",
       "      <td>0.253018</td>\n",
       "      <td>0.185332</td>\n",
       "    </tr>\n",
       "    <tr>\n",
       "      <th>balance</th>\n",
       "      <td>0.015717</td>\n",
       "      <td>0.253018</td>\n",
       "      <td>1.000000</td>\n",
       "      <td>0.858891</td>\n",
       "    </tr>\n",
       "    <tr>\n",
       "      <th>debt</th>\n",
       "      <td>-0.099862</td>\n",
       "      <td>0.185332</td>\n",
       "      <td>0.858891</td>\n",
       "      <td>1.000000</td>\n",
       "    </tr>\n",
       "  </tbody>\n",
       "</table>\n",
       "</div>"
      ],
      "text/plain": [
       "               id       age   balance      debt\n",
       "id       1.000000 -0.129977  0.015717 -0.099862\n",
       "age     -0.129977  1.000000  0.253018  0.185332\n",
       "balance  0.015717  0.253018  1.000000  0.858891\n",
       "debt    -0.099862  0.185332  0.858891  1.000000"
      ]
     },
     "execution_count": 55,
     "metadata": {},
     "output_type": "execute_result"
    }
   ],
   "source": [
    "correlaciones_numericas = df.corr(numeric_only=True)\n",
    "correlaciones_numericas"
   ]
  },
  {
   "cell_type": "code",
   "execution_count": 56,
   "metadata": {},
   "outputs": [
    {
     "data": {
      "image/png": "[encoded data removed]",
      "text/plain": [
       "<Figure size 640x480 with 2 Axes>"
      ]
     },
     "metadata": {},
     "output_type": "display_data"
    }
   ],
   "source": [
    "sns.heatmap(data = correlaciones_numericas, annot = True, cmap = \"coolwarm\")\n",
    "plt.show()"
   ]
  }
 ],
 "metadata": {
  "kernelspec": {
   "display_name": "Python 3",
   "language": "python",
   "name": "python3"
  },
  "language_info": {
   "codemirror_mode": {
    "name": "ipython",
    "version": 3
   },
   "file_extension": ".py",
   "mimetype": "text/x-python",
   "name": "python",
   "nbconvert_exporter": "python",
   "pygments_lexer": "ipython3",
   "version": "3.10.5"
  }
 },
 "nbformat": 4,
 "nbformat_minor": 2
}
